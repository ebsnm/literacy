{
  "nbformat": 4,
  "nbformat_minor": 0,
  "metadata": {
    "colab": {
      "provenance": [],
      "include_colab_link": true
    },
    "kernelspec": {
      "name": "python3",
      "display_name": "Python 3"
    },
    "language_info": {
      "name": "python"
    }
  },
  "cells": [
    {
      "cell_type": "markdown",
      "metadata": {
        "id": "view-in-github",
        "colab_type": "text"
      },
      "source": [
        "<a href=\"https://colab.research.google.com/github/ebsnm/literacy/blob/main/08_cipher%EF%BC%88%E7%B7%B4%E7%BF%92%E5%95%8F%E9%A1%8C%EF%BC%89.ipynb\" target=\"_parent\"><img src=\"https://colab.research.google.com/assets/colab-badge.svg\" alt=\"Open In Colab\"/></a>"
      ]
    },
    {
      "cell_type": "markdown",
      "source": [
        "### 実習1：暗号\n",
        "\n",
        "教員だけが読めるように暗号化したファイルを作り，公開する．公開しても大丈夫なのは，教員だけが読めるように暗号化するから．\n",
        "\n",
        "学生番号をファイルreportに書き込む．学生番号が123456の場合の例を示す．**番号を書き換えてから実行すること．**"
      ],
      "metadata": {
        "id": "5zzVkIgA8a2K"
      }
    },
    {
      "cell_type": "code",
      "source": [
        "!echo 24G3030 > report\n",
        "!cat report #確認"
      ],
      "metadata": {
        "id": "U7tA_e0E8KUq",
        "outputId": "8eccd1aa-f564-4a4f-bb4d-18d7c2441716",
        "colab": {
          "base_uri": "https://localhost:8080/"
        }
      },
      "execution_count": 4,
      "outputs": [
        {
          "output_type": "stream",
          "name": "stdout",
          "text": [
            "24G3030\n"
          ]
        }
      ]
    },
    {
      "cell_type": "code",
      "source": [
        "#教員の公開鍵（yabuki-public.pem）を取得する．\n",
        "!wget --quiet https://raw.githubusercontent.com/ybktr/literacy/main/yabuki-public.pem"
      ],
      "metadata": {
        "id": "6QkRraX-AB6C"
      },
      "execution_count": 2,
      "outputs": []
    },
    {
      "cell_type": "markdown",
      "source": [
        "教員の公開鍵を使って，reportを暗号化し，ファイルreport-secretを作る．"
      ],
      "metadata": {
        "id": "oGy3H5gF89zh"
      }
    },
    {
      "cell_type": "code",
      "source": [
        "!openssl pkeyutl -encrypt -pubin -inkey yabuki-public.pem -in report -out report-secret\n",
        "!cat report-secret"
      ],
      "metadata": {
        "id": "PbEhSdTw87zr",
        "outputId": "4d6b4dd6-01bd-46a3-b1c9-f09f1a202c80",
        "colab": {
          "base_uri": "https://localhost:8080/"
        }
      },
      "execution_count": 3,
      "outputs": [
        {
          "output_type": "stream",
          "name": "stdout",
          "text": [
            "/\u0014���I(N�iI�5�y�S����8�O�.�Rh\"�.\u0012�Čf2�\f��e��Ωn^y̑F\u0014����K\u0007ڪD�Y$`\n",
            "~\u001e1#w��\u0003\b �n�\u001d�\u001f���u�;M��g�`�\r�\u001b�vW!ٷ:�g�5!i�\u0006]��L��f&4"
          ]
        }
      ]
    },
    {
      "cell_type": "markdown",
      "source": [
        "ファイルreport-secretをGitHubで公開し，そのURLを報告する．（まずreport-secretを自分のPCにダウンロードしてから，GitHubにpushするといい．）\n",
        "\n",
        "URLの形式: https://ユーザ名.github.io/literacy/report-secret"
      ],
      "metadata": {
        "id": "2hpfnZ9M9vPZ"
      }
    },
    {
      "cell_type": "markdown",
      "source": [
        "### 実習2：デジタル署名\n",
        "\n",
        "デジタル署名と3個のメッセージを取得する．"
      ],
      "metadata": {
        "id": "3QE8XO5W7tqh"
      }
    },
    {
      "cell_type": "code",
      "source": [
        "!rm -f message*\n",
        "!wget --quiet https://raw.githubusercontent.com/ybktr/literacy/main/message-signature\n",
        "!wget --quiet https://raw.githubusercontent.com/ybktr/literacy/main/message1\n",
        "!wget --quiet https://raw.githubusercontent.com/ybktr/literacy/main/message2\n",
        "!wget --quiet https://raw.githubusercontent.com/ybktr/literacy/main/message3"
      ],
      "metadata": {
        "id": "DD8VHOMH7ZQg"
      },
      "execution_count": null,
      "outputs": []
    },
    {
      "cell_type": "markdown",
      "source": [
        "3個のメッセージのうちで，矢吹が書いたものだと確認できるのはどれか．"
      ],
      "metadata": {
        "id": "25IXIyGrorvr"
      }
    },
    {
      "cell_type": "code",
      "source": [
        "#ここにコードを書いて実行する．"
      ],
      "metadata": {
        "id": "ms5RNNMaBQPa"
      },
      "execution_count": null,
      "outputs": []
    }
  ]
}